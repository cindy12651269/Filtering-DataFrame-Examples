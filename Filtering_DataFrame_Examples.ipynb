{
  "nbformat": 4,
  "nbformat_minor": 0,
  "metadata": {
    "colab": {
      "provenance": [],
      "authorship_tag": "ABX9TyOb4+y++kTsmLT5SmDcy4jz",
      "include_colab_link": true
    },
    "kernelspec": {
      "name": "python3",
      "display_name": "Python 3"
    },
    "language_info": {
      "name": "python"
    }
  },
  "cells": [
    {
      "cell_type": "markdown",
      "metadata": {
        "id": "view-in-github",
        "colab_type": "text"
      },
      "source": [
        "<a href=\"https://colab.research.google.com/github/cindy12651269/Filtering_DataFrame_Examples/blob/cindy12651269/Filtering_DataFrame_Examples.ipynb\" target=\"_parent\"><img src=\"https://colab.research.google.com/assets/colab-badge.svg\" alt=\"Open In Colab\"/></a>"
      ]
    },
    {
      "cell_type": "code",
      "execution_count": null,
      "metadata": {
        "colab": {
          "base_uri": "https://localhost:8080/"
        },
        "id": "q1qBWk4pwVDe",
        "outputId": "e2840c2e-a3a7-4b41-cdc7-9cb9ce7ad2f6"
      },
      "outputs": [
        {
          "output_type": "stream",
          "name": "stdout",
          "text": [
            "     0   1   2   3\n",
            "3   21  16  37  33\n",
            "5   23  14  29  16\n",
            "7   33  24  34  21\n",
            "8   31  14  12  12\n",
            "10  35  12  14  39\n",
            "12  22  11  14  26\n",
            "13  37  16  32  30\n",
            "14  35  21  19  36\n",
            "     0   1   2   3\n",
            "7   33  24  34  21\n",
            "9   20  33  11  13\n",
            "13  37  16  32  30\n",
            "14  35  21  19  36\n",
            "     0   1   2   3\n",
            "0   14  14  25  22\n",
            "1   14  34  37  36\n",
            "2   14  10  11  26\n",
            "3   21  16  37  33\n",
            "4   16  15  27  20\n",
            "5   23  14  29  16\n",
            "6   19  23  15  16\n",
            "9   20  33  11  13\n",
            "11  15  10  18  32\n",
            "12  22  11  14  26\n",
            "     0   1   2   3\n",
            "1   14  34  37  36\n",
            "3   21  16  37  33\n",
            "7   33  24  34  21\n",
            "13  37  16  32  30\n",
            "14  35  21  19  36\n"
          ]
        }
      ],
      "source": [
        "import pandas as pd\n",
        "import numpy as np\n",
        "df=pd.DataFrame(np.random.randint(10,40,60).reshape(-1,4))\n",
        "# Create a DataFrame with 60 random integers between 10 and 40\n",
        "#The reshape method reorganizes the 60 random integers into a 2D array with 4 columns.\n",
        "\n",
        "# - 1. filtered by first column > 20?\n",
        "filtered_1=df[df[0]>20]\n",
        "print(filtered_1)\n",
        "\n",
        "# - 2. filtered by first column + second column > 50\n",
        "filtered_2=df[df[0]+df[1]>50]\n",
        "print(filtered_2)\n",
        "\n",
        "# - 3. filtered by first column < 30 or second column > 30\n",
        "filtered_3=df[(df[0]<30) | (df[1]>30)]\n",
        "print(filtered_3)\n",
        "\n",
        "# - 4. filtered by total sum of row > 100\n",
        "filtered_4=df[df.sum(axis=1)>100]\n",
        "print(filtered_4)\n"
      ]
    },
    {
      "cell_type": "code",
      "source": [],
      "metadata": {
        "id": "QTIEkhBMyosH"
      },
      "execution_count": null,
      "outputs": []
    }
  ]
}