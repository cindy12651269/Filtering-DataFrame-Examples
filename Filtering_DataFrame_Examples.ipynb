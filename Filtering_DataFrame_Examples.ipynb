{
  "nbformat": 4,
  "nbformat_minor": 0,
  "metadata": {
    "colab": {
      "provenance": [],
      "authorship_tag": "ABX9TyPUd4BizCF0cgdhdbFh6YZD",
      "include_colab_link": true
    },
    "kernelspec": {
      "name": "python3",
      "display_name": "Python 3"
    },
    "language_info": {
      "name": "python"
    }
  },
  "cells": [
    {
      "cell_type": "markdown",
      "metadata": {
        "id": "view-in-github",
        "colab_type": "text"
      },
      "source": [
        "<a href=\"https://colab.research.google.com/github/cindy12651269/Filtering_DataFrame_Examples/blob/cindy12651269/Filtering_DataFrame_Examples.ipynb\" target=\"_parent\"><img src=\"https://colab.research.google.com/assets/colab-badge.svg\" alt=\"Open In Colab\"/></a>"
      ]
    },
    {
      "cell_type": "code",
      "execution_count": 11,
      "metadata": {
        "colab": {
          "base_uri": "https://localhost:8080/"
        },
        "id": "q1qBWk4pwVDe",
        "outputId": "17bcb7d5-25d6-4765-fa63-78db8f6b749e"
      },
      "outputs": [
        {
          "output_type": "stream",
          "name": "stdout",
          "text": [
            "     0   1   2   3\n",
            "0   35  37  21  39\n",
            "1   39  12  25  25\n",
            "2   28  29  31  37\n",
            "4   22  22  36  13\n",
            "5   25  32  18  15\n",
            "6   26  30  28  39\n",
            "10  30  37  10  14\n",
            "11  32  22  37  33\n",
            "12  24  12  17  10\n",
            "13  37  30  31  38\n",
            "     0   1   2   3\n",
            "0   35  37  21  39\n",
            "1   39  12  25  25\n",
            "2   28  29  31  37\n",
            "3   13  38  38  26\n",
            "5   25  32  18  15\n",
            "6   26  30  28  39\n",
            "10  30  37  10  14\n",
            "11  32  22  37  33\n",
            "13  37  30  31  38\n",
            "     0   1   2   3\n",
            "0   35  37  21  39\n",
            "2   28  29  31  37\n",
            "3   13  38  38  26\n",
            "4   22  22  36  13\n",
            "5   25  32  18  15\n",
            "6   26  30  28  39\n",
            "7   19  16  17  26\n",
            "8   13  33  13  25\n",
            "9   13  34  36  33\n",
            "10  30  37  10  14\n",
            "12  24  12  17  10\n",
            "14  10  31  33  20\n",
            "     0   1   2   3\n",
            "0   35  37  21  39\n",
            "1   39  12  25  25\n",
            "2   28  29  31  37\n",
            "3   13  38  38  26\n",
            "6   26  30  28  39\n",
            "9   13  34  36  33\n",
            "11  32  22  37  33\n",
            "13  37  30  31  38\n"
          ]
        }
      ],
      "source": [
        "import pandas as pd\n",
        "import numpy as np\n",
        "df=pd.DataFrame(np.random.randint(10,40,60).reshape(-1,4))\n",
        "# Create a DataFrame with 60 random integers between 10 and 40\n",
        "#The reshape method reorganizes the 60 random integers into a 2D array with 4 columns.\n",
        "\n",
        "# - 1. filtered by first column > 20?\n",
        "filtered_1 = df[df[0]>20]\n",
        "print(filtered_1)\n",
        "\n",
        "# - 2. filtered by first column + second column > 50\n",
        "filtered_2 = df[df[0]+df[1]>50]\n",
        "print(filtered_2)\n",
        "\n",
        "# - 3. filtered by first column < 30 or second column > 30\n",
        "filtered_3 = df[(df[0]<30) | (df[1]>30)]\n",
        "print(filtered_3)\n",
        "\n",
        "# - 4. filtered by total sum of row > 100\n",
        "filtered_4 = df[df.sum(axis=1)>100]\n",
        "print(filtered_4)\n"
      ]
    },
    {
      "cell_type": "code",
      "source": [],
      "metadata": {
        "id": "QTIEkhBMyosH"
      },
      "execution_count": null,
      "outputs": []
    }
  ]
}